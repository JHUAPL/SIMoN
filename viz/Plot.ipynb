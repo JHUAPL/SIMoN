{
 "cells": [
  {
   "cell_type": "markdown",
   "metadata": {},
   "source": [
    "# Plot data on a choropleth map"
   ]
  },
  {
   "cell_type": "code",
   "execution_count": null,
   "metadata": {},
   "outputs": [],
   "source": [
    "json_file = \"path/to/mongo_doc.json\"  # path to the Mongo document to plot\n",
    "shapefile_dir = \"path/to/shapefiles/\"  # path to the directory of shapefiles\n",
    "plot_width = 1200  # pixel width of the plot\n",
    "plot_height = 800  # pixel height of the plot\n",
    "projection = 4326  # coordinate reference system to use for plotting"
   ]
  },
  {
   "cell_type": "markdown",
   "metadata": {},
   "source": [
    "## import packages"
   ]
  },
  {
   "cell_type": "code",
   "execution_count": null,
   "metadata": {},
   "outputs": [],
   "source": [
    "import numpy as np\n",
    "from geopandas import read_file\n",
    "import pandas as pd\n",
    "import json\n",
    "\n",
    "from bokeh.io import show\n",
    "from bokeh.models import LogColorMapper\n",
    "from bokeh.palettes import Blues256 as palette\n",
    "palette.reverse()\n",
    "from bokeh.plotting import figure, output_file, save"
   ]
  },
  {
   "cell_type": "markdown",
   "metadata": {},
   "source": [
    "## geopandas functions for getting coordinates\n",
    "### references:\n",
    "\n",
    "https://automating-gis-processes.github.io/2016/Lesson5-interactive-map-bokeh.html\n",
    "\n",
    "https://discourse.bokeh.org/t/mapping-europe-with-bokeh-using-geopandas-and-handling-multipolygons/2571"
   ]
  },
  {
   "cell_type": "code",
   "execution_count": null,
   "metadata": {},
   "outputs": [],
   "source": [
    "def getXYCoords(geometry, coord_type):\n",
    "    # Returns either x or y coordinates from geometry coordinate sequence. Used with LineString and Polygon geometries.\"\"\"\n",
    "    if coord_type == 'x':\n",
    "        return list(geometry.coords.xy[0])\n",
    "    elif coord_type == 'y':\n",
    "        return list(geometry.coords.xy[1])\n",
    "\n",
    "def getPolyCoords(geometry, coord_type):\n",
    "    # Returns Coordinates of Polygon using the Exterior of the Polygon.\"\"\"\n",
    "    ext = geometry.exterior\n",
    "    return getXYCoords(ext, coord_type)\n",
    "\n",
    "def multiGeomHandler(multi_geometry, coord_type, geom_type):\n",
    "    \"\"\"\n",
    "    Function for handling multi-geometries. Can be MultiPoint, MultiLineString or MultiPolygon.\n",
    "    Returns a list of coordinates where all parts of Multi-geometries are merged into a single list.\n",
    "    Individual geometries are separated with np.nan which is how Bokeh wants them.\n",
    "    # Bokeh documentation regarding the Multi-geometry issues can be found here (it is an open issue)\n",
    "    # https://github.com/bokeh/bokeh/issues/2321\n",
    "    \"\"\"\n",
    "\n",
    "    for i, part in enumerate(multi_geometry):\n",
    "        # On the first part of the Multi-geometry initialize the coord_array (np.array)\n",
    "        if i == 0:\n",
    "            if geom_type == \"MultiPoint\":\n",
    "                coord_arrays = np.append(getPointCoords(part, coord_type), np.nan)\n",
    "            elif geom_type == \"MultiLineString\":\n",
    "                coord_arrays = np.append(getLineCoords(part, coord_type), np.nan)\n",
    "            elif geom_type == \"MultiPolygon\":\n",
    "                coord_arrays = np.append(getPolyCoords(part, coord_type), np.nan)\n",
    "        else:\n",
    "            if geom_type == \"MultiPoint\":\n",
    "                coord_arrays = np.concatenate([coord_arrays, np.append(getPointCoords(part, coord_type), np.nan)])\n",
    "            elif geom_type == \"MultiLineString\":\n",
    "                coord_arrays = np.concatenate([coord_arrays, np.append(getLineCoords(part, coord_type), np.nan)])\n",
    "            elif geom_type == \"MultiPolygon\":\n",
    "                coord_arrays = np.concatenate([coord_arrays, np.append(getPolyCoords(part, coord_type), np.nan)])\n",
    "\n",
    "    # Return the coordinates\n",
    "    return coord_arrays\n",
    "\n",
    "def get_coords(row, coord_type):\n",
    "    \"\"\"Returns the coordinates ('x' or 'y') of edges of a Polygon exterior\"\"\"\n",
    "    try:\n",
    "        # plot a single polygon\n",
    "        return getPolyCoords(row['geometry'], coord_type)\n",
    "    except Exception as e:\n",
    "        # plot multiple polygons\n",
    "        return multiGeomHandler(row['geometry'], coord_type, 'MultiPolygon')"
   ]
  },
  {
   "cell_type": "markdown",
   "metadata": {},
   "source": [
    "## plot data on the shapefile\n",
    "### references:\n",
    "\n",
    "https://docs.bokeh.org/en/latest/docs/gallery/texas.html"
   ]
  },
  {
   "cell_type": "code",
   "execution_count": null,
   "metadata": {},
   "outputs": [],
   "source": [
    "def plot_mongo_doc(data, projection=4326, save_fig=True, show_fig=True):\n",
    "    \n",
    "    df = {}\n",
    "    geographies = {}\n",
    "    datasets = data['payload'].keys()\n",
    "    \n",
    "    for dataset in datasets:\n",
    "        \n",
    "        granularity = data['payload'][dataset]['granularity']\n",
    "        print(f\"dataset: {dataset}, granularity: {granularity}\")\n",
    "        instance_col_name = 'ID'\n",
    "        year = data['year']\n",
    "\n",
    "        df[dataset] = pd.DataFrame.from_dict(data['payload'][dataset]['data'], orient='index', columns=[f\"{dataset}_value\"])\n",
    "        df[dataset][instance_col_name] = df[dataset].index\n",
    "\n",
    "        geographies[dataset] = read_file(f\"{shapefile_dir}/simple1000_clipped_{granularity}.shp\").to_crs(epsg=projection)\n",
    "        geographies[dataset] = geographies[dataset].merge(df[dataset], on=instance_col_name)\n",
    "\n",
    "        # reset the color palette\n",
    "        color_mapper = LogColorMapper(palette=palette)\n",
    "\n",
    "        geographies[dataset]['x'] = geographies[dataset].apply(get_coords, coord_type='x', axis=1)\n",
    "        geographies[dataset]['y'] = geographies[dataset].apply(get_coords, coord_type='y', axis=1)\n",
    "\n",
    "        plot_data=dict(\n",
    "            x=geographies[dataset]['x'].tolist(),\n",
    "            y=geographies[dataset]['y'].tolist(),\n",
    "            name=geographies[dataset]['ID'].tolist(),\n",
    "            value=geographies[dataset][f\"{dataset}_value\"].tolist()\n",
    "        )\n",
    "\n",
    "        TOOLS = \"pan,wheel_zoom,reset,hover,save,box_zoom\"\n",
    "\n",
    "        coords_tuple = (\"(Lat, Lon)\", \"($y, $x)\") if projection == 4326 else (\"(x, y)\", \"($x, $y)\")\n",
    "        fig = figure(\n",
    "            title=f\"USA {dataset} ({year})\", tools=TOOLS,\n",
    "            plot_width=plot_width, plot_height=plot_height,\n",
    "            x_axis_location=None, y_axis_location=None,\n",
    "            tooltips=[\n",
    "                (\"Name\", \"@name\"), (\"Value\", \"@value\"), coords_tuple\n",
    "            ])\n",
    "        fig.grid.grid_line_color = None\n",
    "        fig.hover.point_policy = \"follow_mouse\"\n",
    "\n",
    "        fig.patches('x', 'y', source=plot_data,\n",
    "                  fill_color={'field': 'value', 'transform': color_mapper},\n",
    "                  fill_alpha=0.7, line_color=\"white\", line_width=0.5)\n",
    "\n",
    "        if save_fig:\n",
    "            output_file(f\"{year}_{dataset}.html\")\n",
    "            save(fig)\n",
    "        if show_fig:\n",
    "            show(fig)"
   ]
  },
  {
   "cell_type": "markdown",
   "metadata": {},
   "source": [
    "## load and plot the data"
   ]
  },
  {
   "cell_type": "code",
   "execution_count": null,
   "metadata": {},
   "outputs": [],
   "source": [
    "with open(json_file) as f:\n",
    "    data = json.load(f)\n",
    "\n",
    "plot_mongo_doc(data, projection=projection, show_fig=False)"
   ]
  }
 ],
 "metadata": {
  "kernelspec": {
   "display_name": "Python 3",
   "language": "python",
   "name": "python3"
  },
  "language_info": {
   "codemirror_mode": {
    "name": "ipython",
    "version": 3
   },
   "file_extension": ".py",
   "mimetype": "text/x-python",
   "name": "python",
   "nbconvert_exporter": "python",
   "pygments_lexer": "ipython3",
   "version": "3.6.7"
  }
 },
 "nbformat": 4,
 "nbformat_minor": 2
}
